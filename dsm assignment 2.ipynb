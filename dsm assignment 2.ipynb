{
 "cells": [
  {
   "cell_type": "raw",
   "id": "2470c437-0987-4a78-9a76-47f3ee0bf0b6",
   "metadata": {},
   "source": [
    "Q1. Which keyword is used to create a function? Create a function to return a list of odd numbers in the\n",
    "range of 1 to 25."
   ]
  },
  {
   "cell_type": "code",
   "execution_count": 17,
   "id": "12c06199-8305-44b9-99ba-2c4075b0281e",
   "metadata": {},
   "outputs": [],
   "source": [
    "#\"def\" keyword is used to create a function.\n",
    "def odd():\n",
    "    #taking an emoty list to add odd numbers\n",
    "    list1 = []\n",
    "    for num in range(1,25):\n",
    "        #checking the odd condition\n",
    "        if num % 2 != 0:\n",
    "            list1.append(num)\n",
    "    return list1"
   ]
  },
  {
   "cell_type": "code",
   "execution_count": 18,
   "id": "0160ffb4-05a6-4270-ba42-709afa0977a5",
   "metadata": {},
   "outputs": [
    {
     "name": "stdout",
     "output_type": "stream",
     "text": [
      "[1, 3, 5, 7, 9, 11, 13, 15, 17, 19, 21, 23]\n"
     ]
    }
   ],
   "source": [
    "#driver code\n",
    "result = odd()\n",
    "print(result)"
   ]
  },
  {
   "cell_type": "raw",
   "id": "3ae3e371-11c5-4738-aa64-003dbb31c718",
   "metadata": {},
   "source": [
    "Q2. Why *args and **kwargs is used in some functions? Create a function each for *args and **kwargs to\n",
    "demonstrate their use."
   ]
  },
  {
   "cell_type": "code",
   "execution_count": 1,
   "id": "2b0f437f-3ea0-4152-8d30-55212be1c2ee",
   "metadata": {},
   "outputs": [
    {
     "name": "stdout",
     "output_type": "stream",
     "text": [
      "6\n",
      "100\n"
     ]
    }
   ],
   "source": [
    "#In python functions we use *args to take n no.of variables . *args are treated in tuples.\n",
    "#In Python functions by using *kwargs we take n no.of key_value pairs that we required. *kwargs are treated in dictionary.\n",
    "\n",
    "def sum_numbers(*args):\n",
    "    total = 0\n",
    "    for num in args:\n",
    "        total += num\n",
    "    return total\n",
    "\n",
    "print(sum_numbers(1, 2, 3))  \n",
    "print(sum_numbers(10, 20, 30, 40))  "
   ]
  },
  {
   "cell_type": "code",
   "execution_count": 2,
   "id": "e35092ab-0299-43c7-9a0e-32e933b23bdb",
   "metadata": {},
   "outputs": [
    {
     "name": "stdout",
     "output_type": "stream",
     "text": [
      "name: John\n",
      "age: 25\n",
      "city: New York\n"
     ]
    }
   ],
   "source": [
    "def print_details(**kwargs):\n",
    "    for key, value in kwargs.items():\n",
    "        print(f\"{key}: {value}\")\n",
    "\n",
    "print_details(name=\"John\", age=25, city=\"New York\")"
   ]
  },
  {
   "cell_type": "raw",
   "id": "0765448d-375b-4352-aa4b-0771da007763",
   "metadata": {},
   "source": [
    "Q3. What is an iterator in python? Name the method used to initialise the iterator object and the method\n",
    "used for iteration. Use these methods to print the first five elements of the given list [2, 4, 6, 8, 10, 12, 14, 16,\n",
    "18, 20]."
   ]
  },
  {
   "cell_type": "raw",
   "id": "fae4a029-5839-48a1-8179-99ccc3d4463d",
   "metadata": {},
   "source": [
    "Q4. What is a generator function in python? Why yield keyword is used? Give an example of a generator\n",
    "function."
   ]
  },
  {
   "cell_type": "code",
   "execution_count": 3,
   "id": "091d3871-86a3-4149-911e-d8e964dcb60b",
   "metadata": {},
   "outputs": [
    {
     "name": "stdout",
     "output_type": "stream",
     "text": [
      "0\n",
      "2\n",
      "4\n",
      "6\n",
      "8\n"
     ]
    }
   ],
   "source": [
    "'''A generator function in python is a function that generates sequence of values using yield key word.\n",
    "Regular function that returns single value and then terminated.generator function can pause and resume \n",
    "their execution to generate a series over a time'''\n",
    "def even_numbers(n):\n",
    "    for i in range(n):\n",
    "        if i % 2 == 0:\n",
    "            yield i\n",
    "\n",
    "# Using the generator function\n",
    "my_generator = even_numbers(10)\n",
    "\n",
    "for num in my_generator:\n",
    "    print(num)"
   ]
  },
  {
   "cell_type": "raw",
   "id": "933f27f7-5cf1-4b1c-bb7c-022ba280913c",
   "metadata": {},
   "source": [
    "Q5. Create a generator function for prime numbers less than 1000. Use the next() method to print the\n",
    "first 20 prime numbers."
   ]
  },
  {
   "cell_type": "code",
   "execution_count": null,
   "id": "0a964c55-1675-45fa-bf54-bab995fb0f30",
   "metadata": {},
   "outputs": [],
   "source": [
    "def prime_numbers():\n",
    "    num = 2\n",
    "    while True:\n",
    "        if is_prime(num):\n",
    "            yield num\n",
    "        num += 1\n",
    "\n",
    "def is_prime(n):\n",
    "    if n < 2:\n",
    "        return False\n",
    "    for i in range(2, int(n**0.5) + 1):\n",
    "        if n % i == 0:\n",
    "            return False\n",
    "    return True\n",
    "\n",
    "# Using the generator function\n",
    "my_generator = prime_numbers()\n",
    "\n",
    "for _ in range(20):\n",
    "    print(next(my_generator))"
   ]
  }
 ],
 "metadata": {
  "kernelspec": {
   "display_name": "Python 3 (ipykernel)",
   "language": "python",
   "name": "python3"
  },
  "language_info": {
   "codemirror_mode": {
    "name": "ipython",
    "version": 3
   },
   "file_extension": ".py",
   "mimetype": "text/x-python",
   "name": "python",
   "nbconvert_exporter": "python",
   "pygments_lexer": "ipython3",
   "version": "3.10.8"
  }
 },
 "nbformat": 4,
 "nbformat_minor": 5
}
